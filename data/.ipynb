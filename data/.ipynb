{
 "cells": [
  {
   "cell_type": "code",
   "execution_count": 1,
   "metadata": {},
   "outputs": [],
   "source": [
    "import pandas as pd \n",
    "import sqlite3\n",
    "import numpy as np"
   ]
  },
  {
   "cell_type": "code",
   "execution_count": 24,
   "metadata": {},
   "outputs": [],
   "source": [
    "data = {\n",
    "    \"Name\": [\"Nagarjun\", \"Arjun\", \"Zhaharan\", \"Raman\"],\n",
    "    \"Age\" : [21,21,2,50],\n",
    "    \"Salary\" : [10000,20000,20000,40000],\n",
    "    \"Education\" : [\"BE\", \"ME\", np.nan, None]\n",
    "}\n"
   ]
  },
  {
   "cell_type": "code",
   "execution_count": 25,
   "metadata": {},
   "outputs": [
    {
     "data": {
      "text/html": [
       "<div>\n",
       "<style scoped>\n",
       "    .dataframe tbody tr th:only-of-type {\n",
       "        vertical-align: middle;\n",
       "    }\n",
       "\n",
       "    .dataframe tbody tr th {\n",
       "        vertical-align: top;\n",
       "    }\n",
       "\n",
       "    .dataframe thead th {\n",
       "        text-align: right;\n",
       "    }\n",
       "</style>\n",
       "<table border=\"1\" class=\"dataframe\">\n",
       "  <thead>\n",
       "    <tr style=\"text-align: right;\">\n",
       "      <th></th>\n",
       "      <th>Name</th>\n",
       "      <th>Age</th>\n",
       "      <th>Salary</th>\n",
       "      <th>Education</th>\n",
       "    </tr>\n",
       "  </thead>\n",
       "  <tbody>\n",
       "    <tr>\n",
       "      <th>0</th>\n",
       "      <td>Nagarjun</td>\n",
       "      <td>21</td>\n",
       "      <td>10000</td>\n",
       "      <td>BE</td>\n",
       "    </tr>\n",
       "    <tr>\n",
       "      <th>1</th>\n",
       "      <td>Arjun</td>\n",
       "      <td>21</td>\n",
       "      <td>20000</td>\n",
       "      <td>ME</td>\n",
       "    </tr>\n",
       "    <tr>\n",
       "      <th>2</th>\n",
       "      <td>Zhaharan</td>\n",
       "      <td>2</td>\n",
       "      <td>20000</td>\n",
       "      <td>NaN</td>\n",
       "    </tr>\n",
       "    <tr>\n",
       "      <th>3</th>\n",
       "      <td>Raman</td>\n",
       "      <td>50</td>\n",
       "      <td>40000</td>\n",
       "      <td>None</td>\n",
       "    </tr>\n",
       "  </tbody>\n",
       "</table>\n",
       "</div>"
      ],
      "text/plain": [
       "       Name  Age  Salary Education\n",
       "0  Nagarjun   21   10000        BE\n",
       "1     Arjun   21   20000        ME\n",
       "2  Zhaharan    2   20000       NaN\n",
       "3     Raman   50   40000      None"
      ]
     },
     "execution_count": 25,
     "metadata": {},
     "output_type": "execute_result"
    }
   ],
   "source": [
    "df = pd.DataFrame(data)\n",
    "df"
   ]
  },
  {
   "cell_type": "code",
   "execution_count": 26,
   "metadata": {},
   "outputs": [],
   "source": [
    "df.to_csv(\"names.csv\", index=False)"
   ]
  },
  {
   "cell_type": "code",
   "execution_count": 2,
   "metadata": {},
   "outputs": [],
   "source": [
    "from dataclasses import dataclass, asdict, astuple"
   ]
  },
  {
   "cell_type": "code",
   "execution_count": 28,
   "metadata": {},
   "outputs": [],
   "source": [
    "with sqlite3.connect(\"names.db\") as con:\n",
    "    cur = con.cursor()\n",
    "    pass\n"
   ]
  },
  {
   "cell_type": "code",
   "execution_count": 29,
   "metadata": {},
   "outputs": [
    {
     "data": {
      "text/plain": [
       "<sqlite3.Connection at 0x2903a509120>"
      ]
     },
     "execution_count": 29,
     "metadata": {},
     "output_type": "execute_result"
    }
   ],
   "source": [
    "con"
   ]
  },
  {
   "cell_type": "code",
   "execution_count": 30,
   "metadata": {},
   "outputs": [
    {
     "data": {
      "text/plain": [
       "['Nagarjun', 22, 100000, 'SChool']"
      ]
     },
     "execution_count": 30,
     "metadata": {},
     "output_type": "execute_result"
    }
   ],
   "source": [
    "with sqlite3.connect(\"names.db\") as con:\n",
    "    cur = con.cursor()\n",
    "    df = pd.read_sql_query(\"SELECT * FROM Person;\", con)\n",
    "df.iloc[0].tolist()"
   ]
  },
  {
   "cell_type": "code",
   "execution_count": 31,
   "metadata": {},
   "outputs": [],
   "source": [
    "@dataclass\n",
    "class CustomData:\n",
    "    name : str\n",
    "    age : int \n",
    "    salary : float \n",
    "    education : str\n",
    "\n",
    "    def get_attr(self):\n",
    "        return asdict(self)\n",
    "    \n",
    "    def get_data_tuple(self):\n",
    "        return astuple(self)\n",
    "    \n",
    "    def add_new_record(self) -> None :\n",
    "        with sqlite3.connect(\"names.db\") as con:\n",
    "            cur = con.cursor()\n",
    "            statement :str = f\"INSERT INTO Person {tuple(self.get_attr().keys())} VALUES {self.get_data_tuple()};\"\n",
    "            cur.execute(statement)\n",
    "            con.commit()\n",
    "            cur.close()\n",
    "            return f\"Data added sucessfully\"\n",
    "\n",
    "    def update(self,**data):\n",
    "        req_keys = set(self.get_attr().keys())\n",
    "        update_dict = {key:value for key, value in data.items() if key in req_keys}\n",
    "        for key, value in update_dict.items():\n",
    "            setattr(self, key, value) \n",
    "        string = \"\"\n",
    "        for key, value in update_dict.items():\n",
    "            string += f\"{key}='{value}' \"\n",
    "        statement = f\"UPDATE Person SET {string} WHERE name='{self.name}';\"\n",
    "        with sqlite3.connect(\"names.db\") as con:\n",
    "            cur = con.cursor()\n",
    "            cur.execute(statement)\n",
    "            con.commit()\n",
    "        return f\"Updated sucessfully for {self.name}'s record\"\n",
    "    \n",
    "    def delete(self):\n",
    "        with sqlite3.connect(\"names.db\") as con:\n",
    "            cur = con.cursor()\n",
    "            statement = f\"DELETE FROM PERSON WHERE name='{self.name}';\"\n",
    "            cur.execute(statement)\n",
    "            con.commit()\n",
    "            return f\"Record deleted sucesffuly\"    "
   ]
  },
  {
   "cell_type": "code",
   "execution_count": 32,
   "metadata": {},
   "outputs": [
    {
     "data": {
      "text/html": [
       "<div>\n",
       "<style scoped>\n",
       "    .dataframe tbody tr th:only-of-type {\n",
       "        vertical-align: middle;\n",
       "    }\n",
       "\n",
       "    .dataframe tbody tr th {\n",
       "        vertical-align: top;\n",
       "    }\n",
       "\n",
       "    .dataframe thead th {\n",
       "        text-align: right;\n",
       "    }\n",
       "</style>\n",
       "<table border=\"1\" class=\"dataframe\">\n",
       "  <thead>\n",
       "    <tr style=\"text-align: right;\">\n",
       "      <th></th>\n",
       "      <th>name</th>\n",
       "      <th>age</th>\n",
       "      <th>salary</th>\n",
       "      <th>education</th>\n",
       "    </tr>\n",
       "  </thead>\n",
       "  <tbody>\n",
       "    <tr>\n",
       "      <th>0</th>\n",
       "      <td>Nagarjun</td>\n",
       "      <td>22</td>\n",
       "      <td>100000</td>\n",
       "      <td>SChool</td>\n",
       "    </tr>\n",
       "  </tbody>\n",
       "</table>\n",
       "</div>"
      ],
      "text/plain": [
       "       name  age  salary education\n",
       "0  Nagarjun   22  100000    SChool"
      ]
     },
     "execution_count": 32,
     "metadata": {},
     "output_type": "execute_result"
    }
   ],
   "source": [
    "with sqlite3.connect(\"names.db\") as con:\n",
    "    cur = con.cursor()\n",
    "    df = pd.read_sql_query(\"SELECT * FROM Person;\", con)\n",
    "df"
   ]
  },
  {
   "cell_type": "code",
   "execution_count": 33,
   "metadata": {},
   "outputs": [
    {
     "data": {
      "text/plain": [
       "'Data added sucessfully'"
      ]
     },
     "execution_count": 33,
     "metadata": {},
     "output_type": "execute_result"
    }
   ],
   "source": [
    "obj = CustomData('Ram', 15, 1000, 'BE')\n",
    "obj.add_new_record()"
   ]
  },
  {
   "cell_type": "code",
   "execution_count": 34,
   "metadata": {},
   "outputs": [
    {
     "data": {
      "text/plain": [
       "\"Updated sucessfully for Ram's record\""
      ]
     },
     "execution_count": 34,
     "metadata": {},
     "output_type": "execute_result"
    }
   ],
   "source": [
    "obj.update(**{\"education\":\"School\"})"
   ]
  },
  {
   "cell_type": "code",
   "execution_count": 35,
   "metadata": {},
   "outputs": [
    {
     "data": {
      "text/plain": [
       "'Record deleted sucesffuly'"
      ]
     },
     "execution_count": 35,
     "metadata": {},
     "output_type": "execute_result"
    }
   ],
   "source": [
    "obj.delete()"
   ]
  },
  {
   "cell_type": "code",
   "execution_count": null,
   "metadata": {},
   "outputs": [],
   "source": []
  },
  {
   "cell_type": "code",
   "execution_count": null,
   "metadata": {},
   "outputs": [],
   "source": []
  },
  {
   "cell_type": "code",
   "execution_count": null,
   "metadata": {},
   "outputs": [],
   "source": []
  },
  {
   "cell_type": "code",
   "execution_count": 3,
   "metadata": {},
   "outputs": [],
   "source": [
    "from typing import Optional"
   ]
  },
  {
   "cell_type": "code",
   "execution_count": 37,
   "metadata": {},
   "outputs": [],
   "source": [
    "@dataclass\n",
    "class CustomData:\n",
    "    name : str\n",
    "    age : int \n",
    "    salary : float \n",
    "    education : str\n",
    "    id : Optional[int] = None\n",
    "\n",
    "    def get_attr(self):\n",
    "        return asdict(self)\n",
    "    \n",
    "    def get_data_tuple(self):\n",
    "        return astuple(self)\n",
    "    \n",
    "    def add_new_record(self) -> None :\n",
    "        with sqlite3.connect(\"names2.db\") as con:\n",
    "            cur = con.cursor()\n",
    "            columns = tuple(col for col in tuple(self.get_attr().keys()) if col != \"id\")\n",
    "            values = self.get_data_tuple()[:-1]\n",
    "            statement : str = f\"INSERT INTO Person {columns} VALUES {values};\"\n",
    "            cur.execute(statement)\n",
    "            con.commit()\n",
    "            cur.close()\n",
    "            return f\"Data added sucessfully\"\n",
    "\n",
    "    def update(self,**data):\n",
    "        req_keys = set(self.get_attr().keys())\n",
    "        update_dict = {key:value for key, value in data.items() if key in req_keys}\n",
    "        for key, value in update_dict.items():\n",
    "            setattr(self, key, value) \n",
    "        string = \"\".join([f\"{key}='{value}' \" for key, value in update_dict.items() if key != \"id\"])\n",
    "        statement :str = f\"UPDATE Person SET {string} WHERE id = '{self.id}';\"\n",
    "        with sqlite3.connect(\"names2.db\") as con:\n",
    "            cur = con.cursor()\n",
    "            cur.execute(statement)\n",
    "            con.commit()\n",
    "            return f\"Updated sucessfully for {self.name}'s record\"\n",
    "    \n",
    "    def delete(self):\n",
    "        with sqlite3.connect(\"names2.db\") as con:\n",
    "            cur = con.cursor()\n",
    "            statement = f\"DELETE FROM PERSON WHERE id ='{self.id}';\"\n",
    "            cur.execute(statement)\n",
    "            con.commit()\n",
    "            return f\"Record deleted sucesffuly\" \n"
   ]
  },
  {
   "cell_type": "code",
   "execution_count": 38,
   "metadata": {},
   "outputs": [],
   "source": [
    "obj = CustomData('Ram', 15, 1000, 'BE')"
   ]
  },
  {
   "cell_type": "code",
   "execution_count": 39,
   "metadata": {},
   "outputs": [],
   "source": [
    "data = {'name': 'Nagarjun', 'contact_number': '1234', 'Manjal Podi': 5, 'Thu paruppu': 10}"
   ]
  },
  {
   "cell_type": "code",
   "execution_count": 1,
   "metadata": {},
   "outputs": [],
   "source": [
    "import pandas as pd \n",
    "import numpy as np\n",
    "import sqlite3\n",
    "from typing import Optional"
   ]
  },
  {
   "cell_type": "code",
   "execution_count": 12,
   "metadata": {},
   "outputs": [],
   "source": [
    "\n",
    "class DonationRecord:\n",
    "    def __init__(self, ingredients:dict,name:str, contact_number:str, book:str, place:str, date:str, id:Optional[int]=None):\n",
    "        self.id = id\n",
    "        self.book = book\n",
    "        self.name = name\n",
    "        self.contact_number = contact_number\n",
    "        self.place = place\n",
    "        self.date = date \n",
    "        self.ingredients = {key: 0 for key in DonationRecord.get_columns()}\n",
    "        self.ingredients.update(filter_columns(ingredients))\n",
    "\n",
    "    def __str__(self):\n",
    "        return self.name\n",
    "\n",
    "    def get_params(self):\n",
    "        return self.__dict__\n",
    "    \n",
    "    def get_data_tuple(self):\n",
    "        return tuple(self.__dict__.values())\n",
    "    \n",
    "    @staticmethod\n",
    "    def get_columns():\n",
    "        return [\n",
    "            'Manjal Podi', 'Pachai Arisi(bag)', 'Pachai Arisi(Loose)',\n",
    "            'Puzungal Arisi(Bag)', 'Puzungal Arisi(Loose)', 'Ulundhu', 'Nei',\n",
    "            'Sugar', 'Arisi maavu', 'Thu Parupu', 'Pa parupu', 'Annasi Poo',\n",
    "            'Ginger', 'Rock Salt', 'Table Salt', 'Elachi', 'Groundnut Oil',\n",
    "            'Ka parupu', 'Kadala Mavu', 'Kadugu', 'Garam Masala', 'Krambu',\n",
    "            'seeragam', 'Sombu', 'Grapes', 'Gingerly oil', 'Pattai', 'Brinji Ilai',\n",
    "            'Perungayam', 'Puli', 'Malli', 'Malli powder', 'Milagai Vathal',\n",
    "            'Milagai Powder', 'Milagu', 'Milagu Thul', 'Cashew', 'Rava',\n",
    "            'Refined oil', 'Vendhayam', 'Vellam', 'Garlic', 'Kal Pasi', 'Pumpkin',\n",
    "            'Sambar Powder', 'Potato', 'katti peruganyam', 'Mango Pack', 'Nuts',\n",
    "            'Giragam', 'Kalkandu', 'Mumthal', 'Tea Powder', 'Coconut', 'Appalam',\n",
    "            'Lk Glass', 'Silvar Glass', 'Sabeena Powder', 'Rava.1', 'Kungumam',\n",
    "            'Kismis', 'Fortune Oil', 'Sengal(Bricks)', 'Mango(Mangai)', 'Javaraci',\n",
    "            'Hp Gas', 'Curd', 'Vetttrillai', 'Pakku', 'Butter', 'Valiaikai',\n",
    "            'Samiya', 'Gold Winner', 'Dates', 'Ballari', 'Manjal Kayiru',\n",
    "            'Kungumam pack', 'Catds', 'Kungumam cover', 'Plastic Cup', 'Sponge',\n",
    "            'Coffee powder', 'Gas cylinder', 'palasaraku porul', 'Pam poil'\n",
    "          ]\n",
    "    \n",
    "    def insert_record(self):\n",
    "        with sqlite3.connect(\"madurai.db\") as con:\n",
    "            cur = con.cursor()\n",
    "            columns = tuple(self.get_params().keys())[1:-1] + tuple(self.get_params()[\"ingredients\"].keys())\n",
    "            values = tuple(self.get_params().values())[1:-1] + tuple(self.get_params()[\"ingredients\"].values())\n",
    "            statement = f\"INSERT INTO donation_records {columns} VALUES {values};\"\n",
    "            cur.execute(statement)\n",
    "            con.commit()\n",
    "            return f\"{self.name}'s record is inserted succesfully\"\n",
    "        \n",
    "    def update_record(self,new_ingredients:dict):\n",
    "        with sqlite3.connect(\"madurai.db\") as con:\n",
    "            cur = con.cursor()\n",
    "            set_clause = \", \".join([f\"{key}={value}\" for key, value in filter_columns(ingredients=new_ingredients).items()])\n",
    "            statement = f\"UPDATE donation_records SET {set_clause} WHERE id={self.id};\"\n",
    "            cur.execute(statement)\n",
    "            con.commit()\n",
    "            return f\"{self.name}'s data updated sucessfully\"\n",
    "\n",
    "    def delete_record(self):\n",
    "        with sqlite3.connect(\"madurai.db\") as con:\n",
    "            cur = con.cursor()\n",
    "            statement = f\"DELETE FROM donation_records WHERE id = {self.id};\"\n",
    "            cur.execute(statement)\n",
    "            con.commit()\n",
    "            return f\"{self.name}'s record is deleted successfully\"\n",
    "\n",
    "        \n",
    "def filter_columns(ingredients):\n",
    "    return {key:value for key, value in ingredients.items() if key in DonationRecord.get_columns()}\n",
    "\n"
   ]
  },
  {
   "cell_type": "code",
   "execution_count": 188,
   "metadata": {},
   "outputs": [],
   "source": [
    "obj = DonationRecord(ingredients={\n",
    "    'Manjal Podi':1000, 'Pachai Arisi(bag)':1000, 'Pachai Arisi(Loose)':1000, None:None\n",
    "}, name=\"Nagarjun\", contact_number=\"7708536847\",\n",
    "                     book=\"B1\", place=\"Shivapuram\", date=\"10/08/2003\")"
   ]
  },
  {
   "cell_type": "code",
   "execution_count": 13,
   "metadata": {},
   "outputs": [],
   "source": [
    "obj2 = DonationRecord({'Manjal Podi': 10.0, 'Pachai Arisi(bag)': 20, 'Pachai Arisi(Loose)': 30, 'Ulundhu': 22200, 'Nei': 100.0},'Sivakumar',  '990879697', 'Banglore', '2024-01-21', 'B5', 252)"
   ]
  },
  {
   "cell_type": "code",
   "execution_count": 14,
   "metadata": {},
   "outputs": [
    {
     "data": {
      "text/plain": [
       "\"Sivakumar's record is inserted succesfully\""
      ]
     },
     "execution_count": 14,
     "metadata": {},
     "output_type": "execute_result"
    }
   ],
   "source": [
    "obj2.insert_record()"
   ]
  },
  {
   "cell_type": "code",
   "execution_count": 6,
   "metadata": {},
   "outputs": [
    {
     "data": {
      "text/plain": [
       "\"Sivakumar's data updated sucessfully\""
      ]
     },
     "execution_count": 6,
     "metadata": {},
     "output_type": "execute_result"
    }
   ],
   "source": [
    "obj2.update_record(new_ingredients={\"Nei\":10, \"Ginger\":0, \"Pattai\":0})"
   ]
  },
  {
   "cell_type": "code",
   "execution_count": 7,
   "metadata": {},
   "outputs": [
    {
     "data": {
      "text/plain": [
       "\"Sivakumar's record is deleted successfully\""
      ]
     },
     "execution_count": 7,
     "metadata": {},
     "output_type": "execute_result"
    }
   ],
   "source": [
    "obj2.delete_record()"
   ]
  },
  {
   "cell_type": "code",
   "execution_count": 16,
   "metadata": {},
   "outputs": [
    {
     "data": {
      "text/plain": [
       "\"Naga's record is inserted succesfully\""
      ]
     },
     "execution_count": 16,
     "metadata": {},
     "output_type": "execute_result"
    }
   ],
   "source": [
    "obj3 = DonationRecord({}, \"Naga\", \"\", \"B4\", \"KBM\", \"22/01/24\")\n",
    "obj3.insert_record()"
   ]
  },
  {
   "cell_type": "code",
   "execution_count": 18,
   "metadata": {},
   "outputs": [],
   "source": [
    "obj3.id = 258"
   ]
  },
  {
   "cell_type": "code",
   "execution_count": 22,
   "metadata": {},
   "outputs": [
    {
     "data": {
      "text/plain": [
       "\"Naga's record is deleted successfully\""
      ]
     },
     "execution_count": 22,
     "metadata": {},
     "output_type": "execute_result"
    }
   ],
   "source": [
    "obj3.delete_record()"
   ]
  },
  {
   "cell_type": "code",
   "execution_count": 123,
   "metadata": {},
   "outputs": [],
   "source": [
    "obj = DonationRecord({\"Manjal Podi\":11, \"Nei\":1}, \"Shivaji\",\n",
    "                     \"\", \"B4\", \"\", \"\")"
   ]
  },
  {
   "cell_type": "code",
   "execution_count": 125,
   "metadata": {},
   "outputs": [
    {
     "data": {
      "text/plain": [
       "\"UPDATE donation_records SET 'Manjal Podi'=100 'Nei'=100  WHERE id=6\""
      ]
     },
     "execution_count": 125,
     "metadata": {},
     "output_type": "execute_result"
    }
   ],
   "source": [
    "obj.update_record(id=6,new_ingredients={\"Manjal Podi\":100, \"Nei\":100})"
   ]
  },
  {
   "cell_type": "code",
   "execution_count": 237,
   "metadata": {},
   "outputs": [
    {
     "data": {
      "text/plain": [
       "\"Nagarjun's record is inserted succesfully\""
      ]
     },
     "execution_count": 237,
     "metadata": {},
     "output_type": "execute_result"
    }
   ],
   "source": [
    "obj.inser_record()"
   ]
  },
  {
   "cell_type": "code",
   "execution_count": 6,
   "metadata": {},
   "outputs": [
    {
     "data": {
      "text/plain": [
       "Index(['book', 'S_No', 'date', 'name', 'place', 'contact_number',\n",
       "       'Manjal Podi', 'Pachai Arisi(bag)', 'Pachai Arisi(Loose)',\n",
       "       'Puzungal Arisi (Bag)', 'Puzungal Arisi (Loose)', 'Ulundhu', 'Nei',\n",
       "       'Sugar', 'Arisi maavu', 'Thu Parupu', 'Pa parupu', 'Annasi Poo',\n",
       "       'Ginger', 'Rock Salt', 'Table Salt', 'Elachi', 'Groundnut Oil',\n",
       "       'Ka parupu', 'Kadala Mavu', 'Kadugu', 'Garam Masala', 'Krambu',\n",
       "       'seeragam', 'Sombu', 'Grapes', 'Gingerly oil', 'Pattai', 'Brinji Ilai',\n",
       "       'Perungayam', 'Puli', 'Malli', 'Malli powder', 'Milagai Vathal',\n",
       "       'Milagai Powder', 'Milagu', 'Milagu Thul', 'Cashew', 'Rava',\n",
       "       'Refined oil', 'Vendhayam', 'Vellam', 'Garlic', 'Kal Pasi', 'Pumpkin',\n",
       "       'Sambar Powder', 'Potato', 'katti peruganyam', 'Mango Pack', 'Nuts',\n",
       "       'Giragam', 'Kalkandu', 'Mumthal', 'Tea Powder', 'Coconut', 'Appalam',\n",
       "       'Lk Glass', 'Silvar Glass', 'Sabeena Powder', 'Rava.1', 'Kungumam',\n",
       "       'Kismis', 'Fortune Oil', 'Sengal (Bricks)', 'Mango (Mangai)',\n",
       "       'Javaraci', 'Hp Gas', 'Curd', 'Vetttrillai', 'Pakku', 'Butter',\n",
       "       'Valiaikai', 'Samiya', 'Gold Winner', 'Dates', 'Ballari',\n",
       "       'Manjal Kayiru', 'Kungumam pack', 'Catds', 'Kungumam cover',\n",
       "       'Plastic Cup', 'Sponge', 'Coffee powder', 'Gas cylinder',\n",
       "       'palasaraku porul', 'Pam poil'],\n",
       "      dtype='object')"
      ]
     },
     "execution_count": 6,
     "metadata": {},
     "output_type": "execute_result"
    }
   ],
   "source": [
    "df = pd.read_csv(\"./updated_list.csv\")\n",
    "df.columns "
   ]
  },
  {
   "cell_type": "code",
   "execution_count": 7,
   "metadata": {},
   "outputs": [
    {
     "data": {
      "text/plain": [
       "pandas.core.series.Series"
      ]
     },
     "execution_count": 7,
     "metadata": {},
     "output_type": "execute_result"
    }
   ],
   "source": [
    "for row in df[df.columns[0:5]].iterrows():\n",
    "    value = row[1]\n",
    "    break \n",
    "type(value)"
   ]
  },
  {
   "cell_type": "code",
   "execution_count": 71,
   "metadata": {},
   "outputs": [],
   "source": [
    "import pandas as pd \n",
    "import numpy as np \n",
    "import sqlite3"
   ]
  },
  {
   "cell_type": "code",
   "execution_count": 72,
   "metadata": {},
   "outputs": [
    {
     "data": {
      "text/html": [
       "<div>\n",
       "<style scoped>\n",
       "    .dataframe tbody tr th:only-of-type {\n",
       "        vertical-align: middle;\n",
       "    }\n",
       "\n",
       "    .dataframe tbody tr th {\n",
       "        vertical-align: top;\n",
       "    }\n",
       "\n",
       "    .dataframe thead th {\n",
       "        text-align: right;\n",
       "    }\n",
       "</style>\n",
       "<table border=\"1\" class=\"dataframe\">\n",
       "  <thead>\n",
       "    <tr style=\"text-align: right;\">\n",
       "      <th></th>\n",
       "      <th>id</th>\n",
       "      <th>name</th>\n",
       "      <th>contact_number</th>\n",
       "      <th>place</th>\n",
       "      <th>date</th>\n",
       "      <th>book</th>\n",
       "      <th>Manjal Podi</th>\n",
       "      <th>Pachai Arisi(bag)</th>\n",
       "      <th>Pachai Arisi(Loose)</th>\n",
       "      <th>Puzungal Arisi(Bag)</th>\n",
       "      <th>...</th>\n",
       "      <th>Manjal Kayiru</th>\n",
       "      <th>Kungumam pack</th>\n",
       "      <th>Catds</th>\n",
       "      <th>Kungumam cover</th>\n",
       "      <th>Plastic Cup</th>\n",
       "      <th>Sponge</th>\n",
       "      <th>Coffee powder</th>\n",
       "      <th>Gas cylinder</th>\n",
       "      <th>palasaraku porul</th>\n",
       "      <th>Pam poil</th>\n",
       "    </tr>\n",
       "  </thead>\n",
       "  <tbody>\n",
       "    <tr>\n",
       "      <th>0</th>\n",
       "      <td>1</td>\n",
       "      <td>Rajagopal &amp; family</td>\n",
       "      <td></td>\n",
       "      <td></td>\n",
       "      <td>2023-04-20</td>\n",
       "      <td>B1</td>\n",
       "      <td>0.0</td>\n",
       "      <td>0</td>\n",
       "      <td>0</td>\n",
       "      <td>0</td>\n",
       "      <td>...</td>\n",
       "      <td>0</td>\n",
       "      <td>0</td>\n",
       "      <td>0</td>\n",
       "      <td>0</td>\n",
       "      <td>0</td>\n",
       "      <td>0</td>\n",
       "      <td>0</td>\n",
       "      <td>0</td>\n",
       "      <td>0</td>\n",
       "      <td>0</td>\n",
       "    </tr>\n",
       "    <tr>\n",
       "      <th>1</th>\n",
       "      <td>2</td>\n",
       "      <td>Karthikayan</td>\n",
       "      <td></td>\n",
       "      <td></td>\n",
       "      <td>2023-04-20</td>\n",
       "      <td>B1</td>\n",
       "      <td>0.0</td>\n",
       "      <td>0</td>\n",
       "      <td>0</td>\n",
       "      <td>0</td>\n",
       "      <td>...</td>\n",
       "      <td>0</td>\n",
       "      <td>0</td>\n",
       "      <td>0</td>\n",
       "      <td>0</td>\n",
       "      <td>0</td>\n",
       "      <td>0</td>\n",
       "      <td>0</td>\n",
       "      <td>0</td>\n",
       "      <td>0</td>\n",
       "      <td>0</td>\n",
       "    </tr>\n",
       "    <tr>\n",
       "      <th>2</th>\n",
       "      <td>3</td>\n",
       "      <td>Sai swastick Traders</td>\n",
       "      <td></td>\n",
       "      <td></td>\n",
       "      <td>2023-04-23</td>\n",
       "      <td>B1</td>\n",
       "      <td>0.0</td>\n",
       "      <td>0</td>\n",
       "      <td>0</td>\n",
       "      <td>0</td>\n",
       "      <td>...</td>\n",
       "      <td>0</td>\n",
       "      <td>0</td>\n",
       "      <td>0</td>\n",
       "      <td>0</td>\n",
       "      <td>0</td>\n",
       "      <td>0</td>\n",
       "      <td>0</td>\n",
       "      <td>0</td>\n",
       "      <td>0</td>\n",
       "      <td>0</td>\n",
       "    </tr>\n",
       "    <tr>\n",
       "      <th>3</th>\n",
       "      <td>4</td>\n",
       "      <td>Pranav Cards</td>\n",
       "      <td></td>\n",
       "      <td></td>\n",
       "      <td>2023-04-24</td>\n",
       "      <td>B1</td>\n",
       "      <td>0.0</td>\n",
       "      <td>0</td>\n",
       "      <td>0</td>\n",
       "      <td>0</td>\n",
       "      <td>...</td>\n",
       "      <td>0</td>\n",
       "      <td>0</td>\n",
       "      <td>0</td>\n",
       "      <td>8500</td>\n",
       "      <td>0</td>\n",
       "      <td>0</td>\n",
       "      <td>0</td>\n",
       "      <td>0</td>\n",
       "      <td>0</td>\n",
       "      <td>0</td>\n",
       "    </tr>\n",
       "    <tr>\n",
       "      <th>4</th>\n",
       "      <td>5</td>\n",
       "      <td>Sonaa Cards</td>\n",
       "      <td></td>\n",
       "      <td></td>\n",
       "      <td>2023-04-24</td>\n",
       "      <td>B1</td>\n",
       "      <td>0.0</td>\n",
       "      <td>0</td>\n",
       "      <td>0</td>\n",
       "      <td>0</td>\n",
       "      <td>...</td>\n",
       "      <td>0</td>\n",
       "      <td>0</td>\n",
       "      <td>10000</td>\n",
       "      <td>30000</td>\n",
       "      <td>0</td>\n",
       "      <td>0</td>\n",
       "      <td>0</td>\n",
       "      <td>0</td>\n",
       "      <td>0</td>\n",
       "      <td>0</td>\n",
       "    </tr>\n",
       "    <tr>\n",
       "      <th>...</th>\n",
       "      <td>...</td>\n",
       "      <td>...</td>\n",
       "      <td>...</td>\n",
       "      <td>...</td>\n",
       "      <td>...</td>\n",
       "      <td>...</td>\n",
       "      <td>...</td>\n",
       "      <td>...</td>\n",
       "      <td>...</td>\n",
       "      <td>...</td>\n",
       "      <td>...</td>\n",
       "      <td>...</td>\n",
       "      <td>...</td>\n",
       "      <td>...</td>\n",
       "      <td>...</td>\n",
       "      <td>...</td>\n",
       "      <td>...</td>\n",
       "      <td>...</td>\n",
       "      <td>...</td>\n",
       "      <td>...</td>\n",
       "      <td>...</td>\n",
       "    </tr>\n",
       "    <tr>\n",
       "      <th>247</th>\n",
       "      <td>248</td>\n",
       "      <td>Vimala</td>\n",
       "      <td></td>\n",
       "      <td></td>\n",
       "      <td>2023-04-29</td>\n",
       "      <td>B4</td>\n",
       "      <td>0.0</td>\n",
       "      <td>0</td>\n",
       "      <td>30</td>\n",
       "      <td>0</td>\n",
       "      <td>...</td>\n",
       "      <td>0</td>\n",
       "      <td>0</td>\n",
       "      <td>0</td>\n",
       "      <td>0</td>\n",
       "      <td>0</td>\n",
       "      <td>0</td>\n",
       "      <td>0</td>\n",
       "      <td>0</td>\n",
       "      <td>0</td>\n",
       "      <td>0</td>\n",
       "    </tr>\n",
       "    <tr>\n",
       "      <th>248</th>\n",
       "      <td>249</td>\n",
       "      <td>M latha</td>\n",
       "      <td></td>\n",
       "      <td></td>\n",
       "      <td>2023-04-29</td>\n",
       "      <td>B4</td>\n",
       "      <td>0.0</td>\n",
       "      <td>0</td>\n",
       "      <td>0</td>\n",
       "      <td>0</td>\n",
       "      <td>...</td>\n",
       "      <td>0</td>\n",
       "      <td>0</td>\n",
       "      <td>0</td>\n",
       "      <td>0</td>\n",
       "      <td>0</td>\n",
       "      <td>0</td>\n",
       "      <td>0</td>\n",
       "      <td>0</td>\n",
       "      <td>0</td>\n",
       "      <td>0</td>\n",
       "    </tr>\n",
       "    <tr>\n",
       "      <th>249</th>\n",
       "      <td>250</td>\n",
       "      <td>Rengasamy</td>\n",
       "      <td></td>\n",
       "      <td></td>\n",
       "      <td>2023-04-29</td>\n",
       "      <td>B4</td>\n",
       "      <td>0.0</td>\n",
       "      <td>0</td>\n",
       "      <td>1</td>\n",
       "      <td>0</td>\n",
       "      <td>...</td>\n",
       "      <td>0</td>\n",
       "      <td>0</td>\n",
       "      <td>0</td>\n",
       "      <td>0</td>\n",
       "      <td>0</td>\n",
       "      <td>0</td>\n",
       "      <td>0</td>\n",
       "      <td>0</td>\n",
       "      <td>1</td>\n",
       "      <td>0</td>\n",
       "    </tr>\n",
       "    <tr>\n",
       "      <th>250</th>\n",
       "      <td>251</td>\n",
       "      <td>Kanchana devi</td>\n",
       "      <td></td>\n",
       "      <td></td>\n",
       "      <td>2023-04-29</td>\n",
       "      <td>B4</td>\n",
       "      <td>0.0</td>\n",
       "      <td>0</td>\n",
       "      <td>10</td>\n",
       "      <td>0</td>\n",
       "      <td>...</td>\n",
       "      <td>0</td>\n",
       "      <td>0</td>\n",
       "      <td>0</td>\n",
       "      <td>0</td>\n",
       "      <td>0</td>\n",
       "      <td>0</td>\n",
       "      <td>0</td>\n",
       "      <td>0</td>\n",
       "      <td>0</td>\n",
       "      <td>0</td>\n",
       "    </tr>\n",
       "    <tr>\n",
       "      <th>251</th>\n",
       "      <td>252</td>\n",
       "      <td>Sivakumar</td>\n",
       "      <td>990879697</td>\n",
       "      <td>Banglore</td>\n",
       "      <td>2024-01-21</td>\n",
       "      <td>B5</td>\n",
       "      <td>10.0</td>\n",
       "      <td>20</td>\n",
       "      <td>30</td>\n",
       "      <td>0</td>\n",
       "      <td>...</td>\n",
       "      <td>0</td>\n",
       "      <td>0</td>\n",
       "      <td>0</td>\n",
       "      <td>0</td>\n",
       "      <td>0</td>\n",
       "      <td>0</td>\n",
       "      <td>0</td>\n",
       "      <td>0</td>\n",
       "      <td>0</td>\n",
       "      <td>0</td>\n",
       "    </tr>\n",
       "  </tbody>\n",
       "</table>\n",
       "<p>252 rows × 91 columns</p>\n",
       "</div>"
      ],
      "text/plain": [
       "      id                  name contact_number     place        date book  \\\n",
       "0      1    Rajagopal & family                           2023-04-20   B1   \n",
       "1      2           Karthikayan                           2023-04-20   B1   \n",
       "2      3  Sai swastick Traders                           2023-04-23   B1   \n",
       "3      4          Pranav Cards                           2023-04-24   B1   \n",
       "4      5           Sonaa Cards                           2023-04-24   B1   \n",
       "..   ...                   ...            ...       ...         ...  ...   \n",
       "247  248                Vimala                           2023-04-29   B4   \n",
       "248  249               M latha                           2023-04-29   B4   \n",
       "249  250             Rengasamy                           2023-04-29   B4   \n",
       "250  251         Kanchana devi                           2023-04-29   B4   \n",
       "251  252             Sivakumar      990879697  Banglore  2024-01-21   B5   \n",
       "\n",
       "     Manjal Podi  Pachai Arisi(bag)  Pachai Arisi(Loose)  Puzungal Arisi(Bag)  \\\n",
       "0            0.0                  0                    0                    0   \n",
       "1            0.0                  0                    0                    0   \n",
       "2            0.0                  0                    0                    0   \n",
       "3            0.0                  0                    0                    0   \n",
       "4            0.0                  0                    0                    0   \n",
       "..           ...                ...                  ...                  ...   \n",
       "247          0.0                  0                   30                    0   \n",
       "248          0.0                  0                    0                    0   \n",
       "249          0.0                  0                    1                    0   \n",
       "250          0.0                  0                   10                    0   \n",
       "251         10.0                 20                   30                    0   \n",
       "\n",
       "     ...  Manjal Kayiru  Kungumam pack  Catds  Kungumam cover  Plastic Cup  \\\n",
       "0    ...              0              0      0               0            0   \n",
       "1    ...              0              0      0               0            0   \n",
       "2    ...              0              0      0               0            0   \n",
       "3    ...              0              0      0            8500            0   \n",
       "4    ...              0              0  10000           30000            0   \n",
       "..   ...            ...            ...    ...             ...          ...   \n",
       "247  ...              0              0      0               0            0   \n",
       "248  ...              0              0      0               0            0   \n",
       "249  ...              0              0      0               0            0   \n",
       "250  ...              0              0      0               0            0   \n",
       "251  ...              0              0      0               0            0   \n",
       "\n",
       "     Sponge  Coffee powder  Gas cylinder  palasaraku porul  Pam poil  \n",
       "0         0              0             0                 0         0  \n",
       "1         0              0             0                 0         0  \n",
       "2         0              0             0                 0         0  \n",
       "3         0              0             0                 0         0  \n",
       "4         0              0             0                 0         0  \n",
       "..      ...            ...           ...               ...       ...  \n",
       "247       0              0             0                 0         0  \n",
       "248       0              0             0                 0         0  \n",
       "249       0              0             0                 1         0  \n",
       "250       0              0             0                 0         0  \n",
       "251       0              0             0                 0         0  \n",
       "\n",
       "[252 rows x 91 columns]"
      ]
     },
     "execution_count": 72,
     "metadata": {},
     "output_type": "execute_result"
    }
   ],
   "source": [
    "with sqlite3.connect(\"madurai.db\") as con:\n",
    "    df = pd.read_sql_query(\" SELECT * FROM donation_records\", con)\n",
    "df"
   ]
  },
  {
   "cell_type": "code",
   "execution_count": 73,
   "metadata": {},
   "outputs": [
    {
     "data": {
      "text/html": [
       "<div>\n",
       "<style scoped>\n",
       "    .dataframe tbody tr th:only-of-type {\n",
       "        vertical-align: middle;\n",
       "    }\n",
       "\n",
       "    .dataframe tbody tr th {\n",
       "        vertical-align: top;\n",
       "    }\n",
       "\n",
       "    .dataframe thead th {\n",
       "        text-align: right;\n",
       "    }\n",
       "</style>\n",
       "<table border=\"1\" class=\"dataframe\">\n",
       "  <thead>\n",
       "    <tr style=\"text-align: right;\">\n",
       "      <th></th>\n",
       "      <th>id</th>\n",
       "      <th>name</th>\n",
       "      <th>contact_number</th>\n",
       "      <th>place</th>\n",
       "      <th>date</th>\n",
       "      <th>book</th>\n",
       "      <th>Manjal Podi</th>\n",
       "      <th>Pachai Arisi(bag)</th>\n",
       "      <th>Pachai Arisi(Loose)</th>\n",
       "      <th>Puzungal Arisi(Bag)</th>\n",
       "      <th>...</th>\n",
       "      <th>Manjal Kayiru</th>\n",
       "      <th>Kungumam pack</th>\n",
       "      <th>Catds</th>\n",
       "      <th>Kungumam cover</th>\n",
       "      <th>Plastic Cup</th>\n",
       "      <th>Sponge</th>\n",
       "      <th>Coffee powder</th>\n",
       "      <th>Gas cylinder</th>\n",
       "      <th>palasaraku porul</th>\n",
       "      <th>Pam poil</th>\n",
       "    </tr>\n",
       "  </thead>\n",
       "  <tbody>\n",
       "    <tr>\n",
       "      <th>0</th>\n",
       "      <td>1</td>\n",
       "      <td>Rajagopal &amp; family</td>\n",
       "      <td></td>\n",
       "      <td></td>\n",
       "      <td>2023-04-20</td>\n",
       "      <td>B1</td>\n",
       "      <td>0.0</td>\n",
       "      <td>0</td>\n",
       "      <td>0</td>\n",
       "      <td>0</td>\n",
       "      <td>...</td>\n",
       "      <td>0</td>\n",
       "      <td>0</td>\n",
       "      <td>0</td>\n",
       "      <td>0</td>\n",
       "      <td>0</td>\n",
       "      <td>0</td>\n",
       "      <td>0</td>\n",
       "      <td>0</td>\n",
       "      <td>0</td>\n",
       "      <td>0</td>\n",
       "    </tr>\n",
       "    <tr>\n",
       "      <th>1</th>\n",
       "      <td>2</td>\n",
       "      <td>Karthikayan</td>\n",
       "      <td></td>\n",
       "      <td></td>\n",
       "      <td>2023-04-20</td>\n",
       "      <td>B1</td>\n",
       "      <td>0.0</td>\n",
       "      <td>0</td>\n",
       "      <td>0</td>\n",
       "      <td>0</td>\n",
       "      <td>...</td>\n",
       "      <td>0</td>\n",
       "      <td>0</td>\n",
       "      <td>0</td>\n",
       "      <td>0</td>\n",
       "      <td>0</td>\n",
       "      <td>0</td>\n",
       "      <td>0</td>\n",
       "      <td>0</td>\n",
       "      <td>0</td>\n",
       "      <td>0</td>\n",
       "    </tr>\n",
       "  </tbody>\n",
       "</table>\n",
       "<p>2 rows × 91 columns</p>\n",
       "</div>"
      ],
      "text/plain": [
       "   id                name contact_number place        date book  Manjal Podi  \\\n",
       "0   1  Rajagopal & family                       2023-04-20   B1          0.0   \n",
       "1   2         Karthikayan                       2023-04-20   B1          0.0   \n",
       "\n",
       "   Pachai Arisi(bag)  Pachai Arisi(Loose)  Puzungal Arisi(Bag)  ...  \\\n",
       "0                  0                    0                    0  ...   \n",
       "1                  0                    0                    0  ...   \n",
       "\n",
       "   Manjal Kayiru  Kungumam pack  Catds  Kungumam cover  Plastic Cup  Sponge  \\\n",
       "0              0              0      0               0            0       0   \n",
       "1              0              0      0               0            0       0   \n",
       "\n",
       "   Coffee powder  Gas cylinder  palasaraku porul  Pam poil  \n",
       "0              0             0                 0         0  \n",
       "1              0             0                 0         0  \n",
       "\n",
       "[2 rows x 91 columns]"
      ]
     },
     "execution_count": 73,
     "metadata": {},
     "output_type": "execute_result"
    }
   ],
   "source": [
    "df.head(2)"
   ]
  },
  {
   "cell_type": "code",
   "execution_count": 74,
   "metadata": {},
   "outputs": [],
   "source": [
    "res = df[df.index==2]"
   ]
  },
  {
   "cell_type": "code",
   "execution_count": 78,
   "metadata": {},
   "outputs": [],
   "source": [
    "col = res.to_dict(\"split\")[\"columns\"]\n",
    "data = res.to_dict(\"split\")[\"data\"]"
   ]
  },
  {
   "cell_type": "code",
   "execution_count": 76,
   "metadata": {},
   "outputs": [],
   "source": [
    "def produce_non_zero_dict(column, values):\n",
    "    return {key:value for key, value in zip(column, values[0]) if value !=0}"
   ]
  },
  {
   "cell_type": "code",
   "execution_count": 84,
   "metadata": {},
   "outputs": [
    {
     "name": "stdout",
     "output_type": "stream",
     "text": [
      "id:3\n",
      "name:Sai swastick Traders\n",
      "contact_number:\n",
      "place:\n",
      "date:2023-04-23\n",
      "book:B1\n",
      "Elachi:2.0\n"
     ]
    }
   ],
   "source": [
    "dict_ = {}\n",
    "for c, value in zip(col, data[0]):\n",
    "    if value!=0:\n",
    "        print(f\"{c}:{value}\")"
   ]
  },
  {
   "cell_type": "code",
   "execution_count": 85,
   "metadata": {},
   "outputs": [
    {
     "name": "stdout",
     "output_type": "stream",
     "text": [
      "{'id': 3, 'name': 'Sai swastick Traders', 'contact_number': '', 'place': '', 'date': '2023-04-23', 'book': 'B1', 'Elachi': 2.0}\n"
     ]
    }
   ],
   "source": [
    "print(produce_non_zero_dict(col, data))"
   ]
  },
  {
   "cell_type": "code",
   "execution_count": 86,
   "metadata": {},
   "outputs": [],
   "source": [
    "data = {'id': 1, 'name': 'Rajagopal & family', 'contact_number': '', 'place': '', 'date': '2023-04-20', 'book': 'B1', 'Rava': 10.0, 'Vellam': 40.0, 'Kungumam': 1}"
   ]
  },
  {
   "cell_type": "code",
   "execution_count": 89,
   "metadata": {},
   "outputs": [],
   "source": [
    "def render_df(data:dict)->dict:\n",
    "    ignore_list = [\"id\", \"name\", \"place\", \"contact_number\", \"date\", \"book\"]\n",
    "    report = {}\n",
    "    product_list = []\n",
    "    quantity_list = []\n",
    "    for key, value in data.items():\n",
    "        if key not in ignore_list:\n",
    "            product_list.append(key)\n",
    "            quantity_list.append(value)\n",
    "\n",
    "    report[\"Product\"] = product_list\n",
    "    report[\"Quantity\"] = quantity_list\n",
    "    return report"
   ]
  },
  {
   "cell_type": "code",
   "execution_count": 90,
   "metadata": {},
   "outputs": [
    {
     "data": {
      "text/plain": [
       "{'Product': ['Rava', 'Vellam', 'Kungumam'], 'Quantity': [10.0, 40.0, 1]}"
      ]
     },
     "execution_count": 90,
     "metadata": {},
     "output_type": "execute_result"
    }
   ],
   "source": [
    "render_df(data=data)"
   ]
  }
 ],
 "metadata": {
  "kernelspec": {
   "display_name": "Python 3",
   "language": "python",
   "name": "python3"
  },
  "language_info": {
   "codemirror_mode": {
    "name": "ipython",
    "version": 3
   },
   "file_extension": ".py",
   "mimetype": "text/x-python",
   "name": "python",
   "nbconvert_exporter": "python",
   "pygments_lexer": "ipython3",
   "version": "3.11.0"
  }
 },
 "nbformat": 4,
 "nbformat_minor": 2
}
